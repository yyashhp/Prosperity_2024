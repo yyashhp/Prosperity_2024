{
 "cells": [
  {
   "cell_type": "code",
   "execution_count": 71,
   "metadata": {},
   "outputs": [],
   "source": [
    "import numpy as np\n",
    "import numpy.linalg as LA"
   ]
  },
  {
   "cell_type": "code",
   "execution_count": 72,
   "metadata": {},
   "outputs": [],
   "source": [
    "X = np.array([[1, 0.48, 1.52,0.71],\n",
    "              [2.05, 1, 3.26, 1.56],\n",
    "              [0.64, 0.3, 1, 0.46],\n",
    "              [1.41, 0.61, 2.08, 1]]\n",
    "            )"
   ]
  },
  {
   "cell_type": "code",
   "execution_count": 73,
   "metadata": {},
   "outputs": [
    {
     "data": {
      "text/plain": [
       "3.26"
      ]
     },
     "execution_count": 73,
     "metadata": {},
     "output_type": "execute_result"
    }
   ],
   "source": [
    "X[1][2]"
   ]
  },
  {
   "cell_type": "code",
   "execution_count": 74,
   "metadata": {},
   "outputs": [
    {
     "data": {
      "text/plain": [
       "array([5.63015402, 0.0818276 , 0.02969673, 0.01371211])"
      ]
     },
     "execution_count": 74,
     "metadata": {},
     "output_type": "execute_result"
    }
   ],
   "source": [
    "LA.svd(X).S"
   ]
  },
  {
   "cell_type": "markdown",
   "metadata": {},
   "source": [
    "Max is 12.88"
   ]
  },
  {
   "cell_type": "code",
   "execution_count": 75,
   "metadata": {},
   "outputs": [
    {
     "data": {
      "text/plain": [
       "array([[246.13052011, 114.91353727, 378.04729761, 178.26899082],\n",
       "       [521.27549005, 243.37335541, 800.65970886, 377.55275394],\n",
       "       [158.1363764 ,  73.83078854, 242.89157537, 114.53602844],\n",
       "       [335.63770644, 156.702696  , 515.52699737, 243.09782984]])"
      ]
     },
     "execution_count": 75,
     "metadata": {},
     "output_type": "execute_result"
    }
   ],
   "source": [
    "X@X@X@X@X"
   ]
  },
  {
   "cell_type": "code",
   "execution_count": 76,
   "metadata": {},
   "outputs": [
    {
     "data": {
      "text/plain": [
       "array([[1.  , 0.48, 1.52, 0.71],\n",
       "       [2.05, 1.  , 3.26, 1.56],\n",
       "       [0.64, 0.3 , 1.  , 0.46],\n",
       "       [1.41, 0.61, 2.08, 1.  ]])"
      ]
     },
     "execution_count": 76,
     "metadata": {},
     "output_type": "execute_result"
    }
   ],
   "source": [
    "X"
   ]
  },
  {
   "cell_type": "code",
   "execution_count": 77,
   "metadata": {},
   "outputs": [
    {
     "data": {
      "text/plain": [
       "array(31.7064)"
      ]
     },
     "execution_count": 77,
     "metadata": {},
     "output_type": "execute_result"
    }
   ],
   "source": [
    "np.tensordot(X,X)"
   ]
  },
  {
   "cell_type": "code",
   "execution_count": 78,
   "metadata": {},
   "outputs": [],
   "source": [
    "a = np.arange(60.).reshape(3,4,5)\n",
    "b = np.arange(24.).reshape(4,3,2)\n",
    "c = np.tensordot(a,b, axes=([1,0],[0,1]))"
   ]
  },
  {
   "cell_type": "code",
   "execution_count": 79,
   "metadata": {},
   "outputs": [
    {
     "data": {
      "text/plain": [
       "array([[[ 0.,  1.,  2.,  3.,  4.],\n",
       "        [ 5.,  6.,  7.,  8.,  9.],\n",
       "        [10., 11., 12., 13., 14.],\n",
       "        [15., 16., 17., 18., 19.]],\n",
       "\n",
       "       [[20., 21., 22., 23., 24.],\n",
       "        [25., 26., 27., 28., 29.],\n",
       "        [30., 31., 32., 33., 34.],\n",
       "        [35., 36., 37., 38., 39.]],\n",
       "\n",
       "       [[40., 41., 42., 43., 44.],\n",
       "        [45., 46., 47., 48., 49.],\n",
       "        [50., 51., 52., 53., 54.],\n",
       "        [55., 56., 57., 58., 59.]]])"
      ]
     },
     "execution_count": 79,
     "metadata": {},
     "output_type": "execute_result"
    }
   ],
   "source": [
    "a"
   ]
  },
  {
   "cell_type": "code",
   "execution_count": 80,
   "metadata": {},
   "outputs": [
    {
     "data": {
      "text/plain": [
       "array([[1.  , 0.48, 1.52, 0.71],\n",
       "       [2.05, 1.  , 3.26, 1.56],\n",
       "       [0.64, 0.3 , 1.  , 0.46],\n",
       "       [1.41, 0.61, 2.08, 1.  ]])"
      ]
     },
     "execution_count": 80,
     "metadata": {},
     "output_type": "execute_result"
    }
   ],
   "source": [
    "X"
   ]
  },
  {
   "cell_type": "code",
   "execution_count": 81,
   "metadata": {},
   "outputs": [
    {
     "data": {
      "text/plain": [
       "array([[[[ 1.    ,  0.48  ,  1.52  ,  0.71  ],\n",
       "         [ 2.05  ,  1.    ,  3.26  ,  1.56  ],\n",
       "         [ 0.64  ,  0.3   ,  1.    ,  0.46  ],\n",
       "         [ 1.41  ,  0.61  ,  2.08  ,  1.    ]],\n",
       "\n",
       "        [[ 0.48  ,  0.2304,  0.7296,  0.3408],\n",
       "         [ 0.984 ,  0.48  ,  1.5648,  0.7488],\n",
       "         [ 0.3072,  0.144 ,  0.48  ,  0.2208],\n",
       "         [ 0.6768,  0.2928,  0.9984,  0.48  ]],\n",
       "\n",
       "        [[ 1.52  ,  0.7296,  2.3104,  1.0792],\n",
       "         [ 3.116 ,  1.52  ,  4.9552,  2.3712],\n",
       "         [ 0.9728,  0.456 ,  1.52  ,  0.6992],\n",
       "         [ 2.1432,  0.9272,  3.1616,  1.52  ]],\n",
       "\n",
       "        [[ 0.71  ,  0.3408,  1.0792,  0.5041],\n",
       "         [ 1.4555,  0.71  ,  2.3146,  1.1076],\n",
       "         [ 0.4544,  0.213 ,  0.71  ,  0.3266],\n",
       "         [ 1.0011,  0.4331,  1.4768,  0.71  ]]],\n",
       "\n",
       "\n",
       "       [[[ 2.05  ,  0.984 ,  3.116 ,  1.4555],\n",
       "         [ 4.2025,  2.05  ,  6.683 ,  3.198 ],\n",
       "         [ 1.312 ,  0.615 ,  2.05  ,  0.943 ],\n",
       "         [ 2.8905,  1.2505,  4.264 ,  2.05  ]],\n",
       "\n",
       "        [[ 1.    ,  0.48  ,  1.52  ,  0.71  ],\n",
       "         [ 2.05  ,  1.    ,  3.26  ,  1.56  ],\n",
       "         [ 0.64  ,  0.3   ,  1.    ,  0.46  ],\n",
       "         [ 1.41  ,  0.61  ,  2.08  ,  1.    ]],\n",
       "\n",
       "        [[ 3.26  ,  1.5648,  4.9552,  2.3146],\n",
       "         [ 6.683 ,  3.26  , 10.6276,  5.0856],\n",
       "         [ 2.0864,  0.978 ,  3.26  ,  1.4996],\n",
       "         [ 4.5966,  1.9886,  6.7808,  3.26  ]],\n",
       "\n",
       "        [[ 1.56  ,  0.7488,  2.3712,  1.1076],\n",
       "         [ 3.198 ,  1.56  ,  5.0856,  2.4336],\n",
       "         [ 0.9984,  0.468 ,  1.56  ,  0.7176],\n",
       "         [ 2.1996,  0.9516,  3.2448,  1.56  ]]],\n",
       "\n",
       "\n",
       "       [[[ 0.64  ,  0.3072,  0.9728,  0.4544],\n",
       "         [ 1.312 ,  0.64  ,  2.0864,  0.9984],\n",
       "         [ 0.4096,  0.192 ,  0.64  ,  0.2944],\n",
       "         [ 0.9024,  0.3904,  1.3312,  0.64  ]],\n",
       "\n",
       "        [[ 0.3   ,  0.144 ,  0.456 ,  0.213 ],\n",
       "         [ 0.615 ,  0.3   ,  0.978 ,  0.468 ],\n",
       "         [ 0.192 ,  0.09  ,  0.3   ,  0.138 ],\n",
       "         [ 0.423 ,  0.183 ,  0.624 ,  0.3   ]],\n",
       "\n",
       "        [[ 1.    ,  0.48  ,  1.52  ,  0.71  ],\n",
       "         [ 2.05  ,  1.    ,  3.26  ,  1.56  ],\n",
       "         [ 0.64  ,  0.3   ,  1.    ,  0.46  ],\n",
       "         [ 1.41  ,  0.61  ,  2.08  ,  1.    ]],\n",
       "\n",
       "        [[ 0.46  ,  0.2208,  0.6992,  0.3266],\n",
       "         [ 0.943 ,  0.46  ,  1.4996,  0.7176],\n",
       "         [ 0.2944,  0.138 ,  0.46  ,  0.2116],\n",
       "         [ 0.6486,  0.2806,  0.9568,  0.46  ]]],\n",
       "\n",
       "\n",
       "       [[[ 1.41  ,  0.6768,  2.1432,  1.0011],\n",
       "         [ 2.8905,  1.41  ,  4.5966,  2.1996],\n",
       "         [ 0.9024,  0.423 ,  1.41  ,  0.6486],\n",
       "         [ 1.9881,  0.8601,  2.9328,  1.41  ]],\n",
       "\n",
       "        [[ 0.61  ,  0.2928,  0.9272,  0.4331],\n",
       "         [ 1.2505,  0.61  ,  1.9886,  0.9516],\n",
       "         [ 0.3904,  0.183 ,  0.61  ,  0.2806],\n",
       "         [ 0.8601,  0.3721,  1.2688,  0.61  ]],\n",
       "\n",
       "        [[ 2.08  ,  0.9984,  3.1616,  1.4768],\n",
       "         [ 4.264 ,  2.08  ,  6.7808,  3.2448],\n",
       "         [ 1.3312,  0.624 ,  2.08  ,  0.9568],\n",
       "         [ 2.9328,  1.2688,  4.3264,  2.08  ]],\n",
       "\n",
       "        [[ 1.    ,  0.48  ,  1.52  ,  0.71  ],\n",
       "         [ 2.05  ,  1.    ,  3.26  ,  1.56  ],\n",
       "         [ 0.64  ,  0.3   ,  1.    ,  0.46  ],\n",
       "         [ 1.41  ,  0.61  ,  2.08  ,  1.    ]]]])"
      ]
     },
     "execution_count": 81,
     "metadata": {},
     "output_type": "execute_result"
    }
   ],
   "source": [
    "np.tensordot(X, X, axes = 0)"
   ]
  },
  {
   "cell_type": "markdown",
   "metadata": {},
   "source": [
    "Three common use cases are:\n",
    "\n",
    "axes = 0 : tensor product\n",
    "\n",
    "axes = 1 : tensor dot product\n",
    "\n",
    "axes = 2 : (default) tensor double contraction"
   ]
  },
  {
   "cell_type": "code",
   "execution_count": 83,
   "metadata": {},
   "outputs": [
    {
     "data": {
      "text/plain": [
       "array([[1.  , 0.48, 1.52, 0.71],\n",
       "       [2.05, 1.  , 3.26, 1.56],\n",
       "       [0.64, 0.3 , 1.  , 0.46],\n",
       "       [1.41, 0.61, 2.08, 1.  ]])"
      ]
     },
     "execution_count": 83,
     "metadata": {},
     "output_type": "execute_result"
    }
   ],
   "source": [
    "X"
   ]
  },
  {
   "cell_type": "code",
   "execution_count": 82,
   "metadata": {},
   "outputs": [
    {
     "name": "stdout",
     "output_type": "stream",
     "text": [
      "1.0010999999999999\n",
      "0.9516\n",
      "0.9568000000000001\n",
      "1.0\n"
     ]
    }
   ],
   "source": [
    "max = 1\n",
    "\n",
    "for i in range(4):\n",
    "        print(X[3][i] * X[i][3])\n"
   ]
  },
  {
   "cell_type": "code",
   "execution_count": 84,
   "metadata": {},
   "outputs": [
    {
     "data": {
      "text/plain": [
       "1.0010999999999999"
      ]
     },
     "execution_count": 84,
     "metadata": {},
     "output_type": "execute_result"
    }
   ],
   "source": [
    "1.41*0.71 # instant profit to be made off the bat!"
   ]
  },
  {
   "cell_type": "code",
   "execution_count": 87,
   "metadata": {},
   "outputs": [
    {
     "data": {
      "text/plain": [
       "0.22012099999997314"
      ]
     },
     "execution_count": 87,
     "metadata": {},
     "output_type": "execute_result"
    }
   ],
   "source": [
    "((1.41*0.71)**2 - 1)*100 # at minumum we can make 0.22% but we can definetly go higher than this"
   ]
  },
  {
   "cell_type": "code",
   "execution_count": 89,
   "metadata": {},
   "outputs": [
    {
     "name": "stdout",
     "output_type": "stream",
     "text": [
      "1.0010999999999999\n",
      "1.055808\n",
      "0.985872\n",
      "1.0010999999999999\n",
      "0.887855\n",
      "0.9516\n",
      "0.914756\n",
      "0.9516\n",
      "0.9451520000000001\n",
      "0.9734400000000001\n",
      "0.9568000000000001\n",
      "0.9568000000000001\n",
      "1.0010999999999999\n",
      "0.9516\n",
      "0.9568000000000001\n",
      "1.0\n"
     ]
    }
   ],
   "source": [
    "max = 1\n",
    "\n",
    "for i in range(4):\n",
    "        for j in range(4):\n",
    "                print(X[3][i] * X[i][j] * X[j][3])\n",
    "\n"
   ]
  },
  {
   "cell_type": "code",
   "execution_count": 94,
   "metadata": {},
   "outputs": [
    {
     "name": "stdout",
     "output_type": "stream",
     "text": [
      "1.0010999999999999\n",
      "1.055808\n",
      "1.0569693888\n"
     ]
    }
   ],
   "source": [
    "max = 1\n",
    "a = 0\n",
    "b = 0\n",
    "c = 0\n",
    "d = 0\n",
    "\n",
    "for i in range(4):\n",
    "    for j in range(4):\n",
    "        for k in range(4):\n",
    "            for l in range(4):\n",
    "                res = X[3][i] * X[i][j] * X[j][k] * X[k][l] * X[l][3]\n",
    "                if res > max: \n",
    "                    print(X[3][i] * X[i][j] * X[j][k] * X[k][l] * X[l][3])\n",
    "                    max = res\n",
    "                    a = i\n",
    "                    b = j\n",
    "                    c = k\n",
    "                    d = l"
   ]
  },
  {
   "cell_type": "code",
   "execution_count": 95,
   "metadata": {},
   "outputs": [
    {
     "name": "stdout",
     "output_type": "stream",
     "text": [
      "0 1 3 0\n"
     ]
    }
   ],
   "source": [
    "print(a, b, c, d)"
   ]
  },
  {
   "cell_type": "code",
   "execution_count": 102,
   "metadata": {},
   "outputs": [
    {
     "name": "stdout",
     "output_type": "stream",
     "text": [
      "1.0569693888\n"
     ]
    }
   ],
   "source": [
    "print(X[3][a] * X[a][b] * X[b][c] * X[c][d] * X[d][3])\n"
   ]
  },
  {
   "cell_type": "code",
   "execution_count": 106,
   "metadata": {},
   "outputs": [
    {
     "data": {
      "text/plain": [
       "1.56"
      ]
     },
     "execution_count": 106,
     "metadata": {},
     "output_type": "execute_result"
    }
   ],
   "source": [
    "X[b][c]"
   ]
  },
  {
   "cell_type": "code",
   "execution_count": 108,
   "metadata": {},
   "outputs": [
    {
     "name": "stdout",
     "output_type": "stream",
     "text": [
      "0.6768\n"
     ]
    },
    {
     "data": {
      "text/plain": [
       "1.055808"
      ]
     },
     "execution_count": 108,
     "metadata": {},
     "output_type": "execute_result"
    }
   ],
   "source": [
    "print(X[3][a] * X[a][b]) # pizza slice to wasabi root\n",
    "X[3][a] * X[a][b] * X[b][c] # wasabi root to shells"
   ]
  },
  {
   "cell_type": "code",
   "execution_count": 1,
   "metadata": {},
   "outputs": [
    {
     "data": {
      "text/plain": [
       "1.48868928"
      ]
     },
     "execution_count": 1,
     "metadata": {},
     "output_type": "execute_result"
    }
   ],
   "source": [
    "1.055808 * 1.41"
   ]
  },
  {
   "cell_type": "markdown",
   "metadata": {},
   "source": [
    "According to the numbers above, the best trade is as follows:\n",
    "\n",
    "1. Trade 1 unit of shells for 1.41 units of pizza slices\n",
    "2. Trade 1.41 units of pizza slices for 0.6768 units of wasabi root\n",
    "3. Trade 0.6768 units of wasabi root for 1.055808 units of shells\n",
    "4. Trade 1.055808 units of shells for 1.48868928 units of pizza sclies\n",
    "5. Trade back to shells for a shell value of of **1.0569693888** \n",
    "\n",
    "This equates roughly to a 5.7% rate of return off of 5 trades"
   ]
  }
 ],
 "metadata": {
  "kernelspec": {
   "display_name": "general",
   "language": "python",
   "name": "python3"
  },
  "language_info": {
   "codemirror_mode": {
    "name": "ipython",
    "version": 3
   },
   "file_extension": ".py",
   "mimetype": "text/x-python",
   "name": "python",
   "nbconvert_exporter": "python",
   "pygments_lexer": "ipython3",
   "version": "3.12.1"
  }
 },
 "nbformat": 4,
 "nbformat_minor": 2
}
